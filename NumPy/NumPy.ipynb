{
  "nbformat": 4,
  "nbformat_minor": 0,
  "metadata": {
    "colab": {
      "provenance": []
    },
    "kernelspec": {
      "name": "python3",
      "display_name": "Python 3"
    },
    "language_info": {
      "name": "python"
    }
  },
  "cells": [
    {
      "cell_type": "markdown",
      "source": [
        "#Python:- Numpy Arrays"
      ],
      "metadata": {
        "id": "LSYz64s5Z6dE"
      }
    },
    {
      "cell_type": "code",
      "execution_count": 53,
      "metadata": {
        "id": "kdp89vnTH18l"
      },
      "outputs": [],
      "source": [
        "import numpy as np"
      ]
    },
    {
      "cell_type": "code",
      "source": [
        "\"\"\"\n",
        "One way to create a numpy array is from an existing object\n",
        "such as list\n",
        "\n",
        "\"\"\""
      ],
      "metadata": {
        "colab": {
          "base_uri": "https://localhost:8080/",
          "height": 36
        },
        "id": "4CTD6yamQdF1",
        "outputId": "0aa21998-11eb-492e-ddf2-73008ea0dd04"
      },
      "execution_count": 54,
      "outputs": [
        {
          "output_type": "execute_result",
          "data": {
            "text/plain": [
              "'\\nOne way to create a numpy array is from an existing object\\nsuch as list\\n\\n'"
            ],
            "application/vnd.google.colaboratory.intrinsic+json": {
              "type": "string"
            }
          },
          "metadata": {},
          "execution_count": 54
        }
      ]
    },
    {
      "cell_type": "code",
      "source": [
        "ls=[1,2,3]\n",
        "type(ls)"
      ],
      "metadata": {
        "colab": {
          "base_uri": "https://localhost:8080/"
        },
        "id": "wD1rhplgQdIx",
        "outputId": "59d409c6-6186-49d6-e43d-a9b5c2afa385"
      },
      "execution_count": 55,
      "outputs": [
        {
          "output_type": "execute_result",
          "data": {
            "text/plain": [
              "list"
            ]
          },
          "metadata": {},
          "execution_count": 55
        }
      ]
    },
    {
      "cell_type": "code",
      "source": [
        "# transform this list into an array\n",
        "\n",
        "np.array(ls)"
      ],
      "metadata": {
        "colab": {
          "base_uri": "https://localhost:8080/"
        },
        "id": "Vnj2ETWuQdLf",
        "outputId": "ee32cd02-e685-4dff-8420-68b7df008f6b"
      },
      "execution_count": 56,
      "outputs": [
        {
          "output_type": "execute_result",
          "data": {
            "text/plain": [
              "array([1, 2, 3])"
            ]
          },
          "metadata": {},
          "execution_count": 56
        }
      ]
    },
    {
      "cell_type": "code",
      "source": [
        "arr=np.array(ls)\n",
        "arr"
      ],
      "metadata": {
        "colab": {
          "base_uri": "https://localhost:8080/"
        },
        "id": "Am36ZOujQdOD",
        "outputId": "35864522-6866-4302-dac8-74f95f3b8b44"
      },
      "execution_count": 57,
      "outputs": [
        {
          "output_type": "execute_result",
          "data": {
            "text/plain": [
              "array([1, 2, 3])"
            ]
          },
          "metadata": {},
          "execution_count": 57
        }
      ]
    },
    {
      "cell_type": "code",
      "source": [
        "# Transform a nested list into a numpy array\n",
        "# which is called matrix\n"
      ],
      "metadata": {
        "id": "bevYodmFQdQw"
      },
      "execution_count": 58,
      "outputs": []
    },
    {
      "cell_type": "code",
      "source": [
        "ls=[[1,2,3],[4,5,6],[7,8,9]]\n",
        "ls"
      ],
      "metadata": {
        "colab": {
          "base_uri": "https://localhost:8080/"
        },
        "id": "dyAqFJn7QdTH",
        "outputId": "1d081a91-7548-41d3-85fc-dcfbf44e2772"
      },
      "execution_count": 59,
      "outputs": [
        {
          "output_type": "execute_result",
          "data": {
            "text/plain": [
              "[[1, 2, 3], [4, 5, 6], [7, 8, 9]]"
            ]
          },
          "metadata": {},
          "execution_count": 59
        }
      ]
    },
    {
      "cell_type": "code",
      "source": [
        "mtr=np.array(ls)\n",
        "mtr\n",
        "# this is 2D matrix.\n",
        "# we can check how many dimensions it has, based on the number\n",
        "# brackets that are shows in the beginning or at the very end\n",
        "# we have X-axis and Y-axis which makes it 2D matrix."
      ],
      "metadata": {
        "colab": {
          "base_uri": "https://localhost:8080/"
        },
        "id": "df4ko3plQdVy",
        "outputId": "e6b8e779-88f9-4803-f827-96fe785e1485"
      },
      "execution_count": 60,
      "outputs": [
        {
          "output_type": "execute_result",
          "data": {
            "text/plain": [
              "array([[1, 2, 3],\n",
              "       [4, 5, 6],\n",
              "       [7, 8, 9]])"
            ]
          },
          "metadata": {},
          "execution_count": 60
        }
      ]
    },
    {
      "cell_type": "code",
      "source": [
        "mtr.shape\n",
        "#to check built in methods 1st need to run the mtr object\n"
      ],
      "metadata": {
        "colab": {
          "base_uri": "https://localhost:8080/"
        },
        "id": "52B_fpxZQdYW",
        "outputId": "3e571143-e26d-4ecc-8967-becf3792831b"
      },
      "execution_count": 61,
      "outputs": [
        {
          "output_type": "execute_result",
          "data": {
            "text/plain": [
              "(3, 3)"
            ]
          },
          "metadata": {},
          "execution_count": 61
        }
      ]
    },
    {
      "cell_type": "markdown",
      "source": [
        "**Built in Methods**"
      ],
      "metadata": {
        "id": "UUEeskYdbu_i"
      }
    },
    {
      "cell_type": "code",
      "source": [
        "\n",
        "\"\"\"\n",
        "Numpy. arange is a function that produces an array of\n",
        "sequential numbers within a given interval.\n",
        "It differs from Python's builtin range()\n",
        "function in that it can handle floating-point\n",
        "numbers as well as arbitrary step sizes.\n",
        "Also, the output of numpy.\n",
        "arange is an array of elements instead of a range object.\n",
        "\"\"\""
      ],
      "metadata": {
        "colab": {
          "base_uri": "https://localhost:8080/",
          "height": 88
        },
        "id": "HhXZAm5_Qdds",
        "outputId": "451ba444-0711-467b-84e0-dd5c4a741ea4"
      },
      "execution_count": 62,
      "outputs": [
        {
          "output_type": "execute_result",
          "data": {
            "text/plain": [
              "\"\\nNumpy. arange is a function that produces an array of \\nsequential numbers within a given interval. \\nIt differs from Python's builtin range()\\nfunction in that it can handle floating-point \\nnumbers as well as arbitrary step sizes.\\nAlso, the output of numpy. \\narange is an array of elements instead of a range object.\\n\""
            ],
            "application/vnd.google.colaboratory.intrinsic+json": {
              "type": "string"
            }
          },
          "metadata": {},
          "execution_count": 62
        }
      ]
    },
    {
      "cell_type": "code",
      "source": [
        "np.arange(1,10,1)\n",
        "\n",
        "# start,stop,step-size(by default is 1)\n",
        "# start from any number and goes all the way upto, but not\n",
        "# including stop index.\n",
        "# start is inclusive and the end is exclusive.\n"
      ],
      "metadata": {
        "colab": {
          "base_uri": "https://localhost:8080/"
        },
        "id": "UYHU-UjsQdgL",
        "outputId": "59552b99-224c-476c-af79-5de7dfa0c7be"
      },
      "execution_count": 63,
      "outputs": [
        {
          "output_type": "execute_result",
          "data": {
            "text/plain": [
              "array([1, 2, 3, 4, 5, 6, 7, 8, 9])"
            ]
          },
          "metadata": {},
          "execution_count": 63
        }
      ]
    },
    {
      "cell_type": "code",
      "source": [
        "\" Zeros and Ones\"\n",
        "\n",
        "\"Zeros:-\\\n",
        "Return a new array of given shape and type, filled with zeros\\\n",
        "gives 1D array\""
      ],
      "metadata": {
        "colab": {
          "base_uri": "https://localhost:8080/",
          "height": 36
        },
        "id": "EQWlW1wlQdiw",
        "outputId": "c89fb7bc-edb6-459a-f388-66b8846020bd"
      },
      "execution_count": 64,
      "outputs": [
        {
          "output_type": "execute_result",
          "data": {
            "text/plain": [
              "'Zeros:-Return a new array of given shape and type, filled with zerosgives 1D array'"
            ],
            "application/vnd.google.colaboratory.intrinsic+json": {
              "type": "string"
            }
          },
          "metadata": {},
          "execution_count": 64
        }
      ]
    },
    {
      "cell_type": "code",
      "source": [
        "np.zeros(5)\n",
        "\n",
        "# dot after 0 indicating that it's a floating point number."
      ],
      "metadata": {
        "colab": {
          "base_uri": "https://localhost:8080/"
        },
        "id": "HuWmsu8CQdlU",
        "outputId": "6b5cf5cd-6e93-4745-daed-7971e407b5b9"
      },
      "execution_count": 65,
      "outputs": [
        {
          "output_type": "execute_result",
          "data": {
            "text/plain": [
              "array([0., 0., 0., 0., 0.])"
            ]
          },
          "metadata": {},
          "execution_count": 65
        }
      ]
    },
    {
      "cell_type": "code",
      "source": [
        "type(0.)"
      ],
      "metadata": {
        "colab": {
          "base_uri": "https://localhost:8080/"
        },
        "id": "yhIqnKc-Qdn3",
        "outputId": "764ebd0b-eda9-448b-f99b-b9253ff653e2"
      },
      "execution_count": 66,
      "outputs": [
        {
          "output_type": "execute_result",
          "data": {
            "text/plain": [
              "float"
            ]
          },
          "metadata": {},
          "execution_count": 66
        }
      ]
    },
    {
      "cell_type": "code",
      "source": [
        "np.zeros((4,5))\n",
        "\n",
        "# passing a tuple can create matrix.\n",
        "# (rows,columns)"
      ],
      "metadata": {
        "colab": {
          "base_uri": "https://localhost:8080/"
        },
        "id": "jCSttSgxQdqS",
        "outputId": "f2a1b7eb-e899-4f2c-d5cd-762484135ea3"
      },
      "execution_count": 67,
      "outputs": [
        {
          "output_type": "execute_result",
          "data": {
            "text/plain": [
              "array([[0., 0., 0., 0., 0.],\n",
              "       [0., 0., 0., 0., 0.],\n",
              "       [0., 0., 0., 0., 0.],\n",
              "       [0., 0., 0., 0., 0.]])"
            ]
          },
          "metadata": {},
          "execution_count": 67
        }
      ]
    },
    {
      "cell_type": "code",
      "source": [
        "\"\"\"\n",
        "Python numpy. ones() function returns a new array of\n",
        " given shape and data type, where the element's\n",
        " value is set to 1.\n",
        "\"\"\"\n"
      ],
      "metadata": {
        "colab": {
          "base_uri": "https://localhost:8080/",
          "height": 53
        },
        "id": "QSQnrWUAQdvV",
        "outputId": "e652909f-a1ee-4cb1-89d1-d398ad3975ea"
      },
      "execution_count": 68,
      "outputs": [
        {
          "output_type": "execute_result",
          "data": {
            "text/plain": [
              "\"\\nPython numpy. ones() function returns a new array of\\n given shape and data type, where the element's \\n value is set to 1.\\n\""
            ],
            "application/vnd.google.colaboratory.intrinsic+json": {
              "type": "string"
            }
          },
          "metadata": {},
          "execution_count": 68
        }
      ]
    },
    {
      "cell_type": "code",
      "source": [
        "np.ones(5)"
      ],
      "metadata": {
        "colab": {
          "base_uri": "https://localhost:8080/"
        },
        "id": "qu-6DIokdwRk",
        "outputId": "7da59035-0505-420c-d7c6-25f9a958dd99"
      },
      "execution_count": 69,
      "outputs": [
        {
          "output_type": "execute_result",
          "data": {
            "text/plain": [
              "array([1., 1., 1., 1., 1.])"
            ]
          },
          "metadata": {},
          "execution_count": 69
        }
      ]
    },
    {
      "cell_type": "code",
      "source": [
        "np.ones((5,5))"
      ],
      "metadata": {
        "colab": {
          "base_uri": "https://localhost:8080/"
        },
        "id": "EH9IwVDCdwPD",
        "outputId": "935c6816-103a-45ba-feb2-cd0c952e3bdc"
      },
      "execution_count": 70,
      "outputs": [
        {
          "output_type": "execute_result",
          "data": {
            "text/plain": [
              "array([[1., 1., 1., 1., 1.],\n",
              "       [1., 1., 1., 1., 1.],\n",
              "       [1., 1., 1., 1., 1.],\n",
              "       [1., 1., 1., 1., 1.],\n",
              "       [1., 1., 1., 1., 1.]])"
            ]
          },
          "metadata": {},
          "execution_count": 70
        }
      ]
    },
    {
      "cell_type": "code",
      "source": [
        "\"\"\"\n",
        "Numpy allows you to perform operations that are broadcasted to\n",
        "every single number on  the array.\n",
        "\n",
        "Meaning , if i take my ones, and I add four,numpy will add\n",
        "4 to each ones\n",
        "\n",
        "this is not possible with normal python list.\n",
        "\n",
        "for example if we multiply python list with any number\n",
        "instead of performing operation it will print list number.\n",
        "\n",
        "[1,1,1]*100 will print each 1 , 100 times\n",
        "\n",
        "if we try to add [1,1,1]+100 will give an error.\n",
        "can't concatenate a list to an integer because they are\n",
        "two different data types\n",
        "\n",
        "Numpy can do this. can perform any operation. add,multipy,divide\n",
        "\n",
        "\"\"\""
      ],
      "metadata": {
        "colab": {
          "base_uri": "https://localhost:8080/",
          "height": 140
        },
        "id": "eo8-6wwMdwMn",
        "outputId": "0f7cdfc1-ad2b-4e57-b293-779b3aed1730"
      },
      "execution_count": 71,
      "outputs": [
        {
          "output_type": "execute_result",
          "data": {
            "text/plain": [
              "\"\\nNumpy allows you to perform operations that are broadcasted to\\nevery single number on  the array.\\n\\nMeaning , if i take my ones, and I add four,numpy will add\\n4 to each ones\\n\\nthis is not possible with normal python list.\\n\\nfor example if we multiply python list with any number\\ninstead of performing operation it will print list number.\\n\\n[1,1,1]*100 will print each 1 , 100 times\\n\\nif we try to add [1,1,1]+100 will give an error.\\ncan't concatenate a list to an integer because they are \\ntwo different data types\\n\\nNumpy can do this. can perform any operation. add,multipy,divide\\n\\n\""
            ],
            "application/vnd.google.colaboratory.intrinsic+json": {
              "type": "string"
            }
          },
          "metadata": {},
          "execution_count": 71
        }
      ]
    },
    {
      "cell_type": "code",
      "source": [
        "np.ones((5,5)) +4"
      ],
      "metadata": {
        "colab": {
          "base_uri": "https://localhost:8080/"
        },
        "id": "RoRV94FZdwJz",
        "outputId": "633a52d8-6841-415c-b1ee-c52f399b2655"
      },
      "execution_count": 72,
      "outputs": [
        {
          "output_type": "execute_result",
          "data": {
            "text/plain": [
              "array([[5., 5., 5., 5., 5.],\n",
              "       [5., 5., 5., 5., 5.],\n",
              "       [5., 5., 5., 5., 5.],\n",
              "       [5., 5., 5., 5., 5.],\n",
              "       [5., 5., 5., 5., 5.]])"
            ]
          },
          "metadata": {},
          "execution_count": 72
        }
      ]
    },
    {
      "cell_type": "code",
      "source": [
        "np.ones(5) *100"
      ],
      "metadata": {
        "colab": {
          "base_uri": "https://localhost:8080/"
        },
        "id": "WZl0QMSXdwHL",
        "outputId": "dc44018a-cfdc-416d-d044-4b98bfefcd4f"
      },
      "execution_count": 73,
      "outputs": [
        {
          "output_type": "execute_result",
          "data": {
            "text/plain": [
              "array([100., 100., 100., 100., 100.])"
            ]
          },
          "metadata": {},
          "execution_count": 73
        }
      ]
    },
    {
      "cell_type": "code",
      "source": [
        "np.ones(10)/108"
      ],
      "metadata": {
        "colab": {
          "base_uri": "https://localhost:8080/"
        },
        "id": "otqS-4kFdwEx",
        "outputId": "a29210db-9894-4d09-8248-15aa603d57bd"
      },
      "execution_count": 74,
      "outputs": [
        {
          "output_type": "execute_result",
          "data": {
            "text/plain": [
              "array([0.00925926, 0.00925926, 0.00925926, 0.00925926, 0.00925926,\n",
              "       0.00925926, 0.00925926, 0.00925926, 0.00925926, 0.00925926])"
            ]
          },
          "metadata": {},
          "execution_count": 74
        }
      ]
    },
    {
      "cell_type": "code",
      "source": [
        "\"\"\"\n",
        "Create linearly spaces arrays that return evenly spaced numbers\n",
        "over a specified interval,\n",
        "A little different than arange method.\n",
        "\n",
        "arange allow you to define the size of the step.\n",
        "linspace allow you to define the number of steps.\n",
        "linspace(0,1,20) : 20 evenly spaced numbers from 0 to 1 (inclusive).\n",
        "arange(0, 10, 2) : however many numbers are needed to\n",
        "go from 0 to 10 (exclusive)\n",
        "\n",
        "arange return integers from a start, a stop and then a step size\n",
        "NP linspace, is an inclusive start, an inclusive stop and then\n",
        "we get to ask how many numbers we want\n",
        "\"\"\""
      ],
      "metadata": {
        "colab": {
          "base_uri": "https://localhost:8080/",
          "height": 140
        },
        "id": "_9-F63QZdwB9",
        "outputId": "a4fead97-e5d0-4e50-e849-d8cb9bca77d9"
      },
      "execution_count": 75,
      "outputs": [
        {
          "output_type": "execute_result",
          "data": {
            "text/plain": [
              "'\\nCreate linearly spaces arrays that return evenly spaced numbers\\nover a specified interval,\\nA little different than arange method.\\n\\narange allow you to define the size of the step.\\nlinspace allow you to define the number of steps.\\nlinspace(0,1,20) : 20 evenly spaced numbers from 0 to 1 (inclusive). \\narange(0, 10, 2) : however many numbers are needed to\\ngo from 0 to 10 (exclusive) \\n\\narange return integers from a start, a stop and then a step size\\nNP linspace, is an inclusive start, an inclusive stop and then\\nwe get to ask how many numbers we want\\n'"
            ],
            "application/vnd.google.colaboratory.intrinsic+json": {
              "type": "string"
            }
          },
          "metadata": {},
          "execution_count": 75
        }
      ]
    },
    {
      "cell_type": "code",
      "source": [
        "np.linspace(0,100,5)"
      ],
      "metadata": {
        "colab": {
          "base_uri": "https://localhost:8080/"
        },
        "id": "Jc-bMOgDdv_c",
        "outputId": "3e9ff63c-5d7f-40c8-fb39-de97a77548c0"
      },
      "execution_count": 76,
      "outputs": [
        {
          "output_type": "execute_result",
          "data": {
            "text/plain": [
              "array([  0.,  25.,  50.,  75., 100.])"
            ]
          },
          "metadata": {},
          "execution_count": 76
        }
      ]
    },
    {
      "cell_type": "code",
      "source": [
        "np.arange(0,10,3)"
      ],
      "metadata": {
        "colab": {
          "base_uri": "https://localhost:8080/"
        },
        "id": "GVF9ePLadv8-",
        "outputId": "1bc58ea3-89bb-43ad-fb41-89d2c40feb8f"
      },
      "execution_count": 77,
      "outputs": [
        {
          "output_type": "execute_result",
          "data": {
            "text/plain": [
              "array([0, 3, 6, 9])"
            ]
          },
          "metadata": {},
          "execution_count": 77
        }
      ]
    },
    {
      "cell_type": "code",
      "source": [
        "np.linspace(0,10,20)"
      ],
      "metadata": {
        "colab": {
          "base_uri": "https://localhost:8080/"
        },
        "id": "6dw94Bw9dv6c",
        "outputId": "ba078c4b-6174-4b7a-96f0-ef9eca8e791b"
      },
      "execution_count": 78,
      "outputs": [
        {
          "output_type": "execute_result",
          "data": {
            "text/plain": [
              "array([ 0.        ,  0.52631579,  1.05263158,  1.57894737,  2.10526316,\n",
              "        2.63157895,  3.15789474,  3.68421053,  4.21052632,  4.73684211,\n",
              "        5.26315789,  5.78947368,  6.31578947,  6.84210526,  7.36842105,\n",
              "        7.89473684,  8.42105263,  8.94736842,  9.47368421, 10.        ])"
            ]
          },
          "metadata": {},
          "execution_count": 78
        }
      ]
    },
    {
      "cell_type": "code",
      "source": [
        "\"\"\"\n",
        "Identity matrix\n",
        "\n",
        "NumPy eye() The eye() method creates a\n",
        "2D array with 1s on the diagonal and 0s elsewhere.\n",
        "\"\"\""
      ],
      "metadata": {
        "colab": {
          "base_uri": "https://localhost:8080/",
          "height": 53
        },
        "id": "6v_ZHM7HhDIc",
        "outputId": "5bade935-4186-4d41-8224-deb9142d071e"
      },
      "execution_count": 79,
      "outputs": [
        {
          "output_type": "execute_result",
          "data": {
            "text/plain": [
              "'\\nIdentity matrix\\n\\nNumPy eye() The eye() method creates a \\n2D array with 1s on the diagonal and 0s elsewhere.\\n'"
            ],
            "application/vnd.google.colaboratory.intrinsic+json": {
              "type": "string"
            }
          },
          "metadata": {},
          "execution_count": 79
        }
      ]
    },
    {
      "cell_type": "code",
      "source": [
        "np.eye(5)"
      ],
      "metadata": {
        "colab": {
          "base_uri": "https://localhost:8080/"
        },
        "id": "0q8eoDjghDF0",
        "outputId": "be961c0f-32e6-4516-d348-8c6fe5681c63"
      },
      "execution_count": 80,
      "outputs": [
        {
          "output_type": "execute_result",
          "data": {
            "text/plain": [
              "array([[1., 0., 0., 0., 0.],\n",
              "       [0., 1., 0., 0., 0.],\n",
              "       [0., 0., 1., 0., 0.],\n",
              "       [0., 0., 0., 1., 0.],\n",
              "       [0., 0., 0., 0., 1.]])"
            ]
          },
          "metadata": {},
          "execution_count": 80
        }
      ]
    },
    {
      "cell_type": "code",
      "source": [
        "\"\"\"\n",
        "Random number Numpy\n",
        "\n",
        "The numpy. random. rand() function creates an array of\n",
        "specified shapes fills it with random values and\n",
        "generates random numbers with Numpy.\n",
        "\n",
        "What is the difference between np random rand() and\n",
        "np random randn()?\n",
        "\n",
        "random. rand() produces random numbers from a\n",
        "uniform distribution over the interval [0, 1),\n",
        "\n",
        "while np. random. randn() generates random numbers\n",
        "from a standard normal distribution.\n",
        "Standard normal distribution has mean at zero and standard\n",
        "deviation of 1.\n",
        "\"\"\""
      ],
      "metadata": {
        "colab": {
          "base_uri": "https://localhost:8080/",
          "height": 123
        },
        "id": "er1Aab0AhRVD",
        "outputId": "1a60d56b-666e-49c6-c256-1692e50a6b8b"
      },
      "execution_count": 81,
      "outputs": [
        {
          "output_type": "execute_result",
          "data": {
            "text/plain": [
              "'\\nRandom number Numpy\\n\\nThe numpy. random. rand() function creates an array of \\nspecified shapes fills it with random values and \\ngenerates random numbers with Numpy.\\n\\nWhat is the difference between np random rand() and \\nnp random randn()?\\n\\nrandom. rand() produces random numbers from a \\nuniform distribution over the interval [0, 1), \\n\\nwhile np. random. randn() generates random numbers\\nfrom a standard normal distribution.\\nStandard normal distribution has mean at zero and standard\\ndeviation of 1.\\n'"
            ],
            "application/vnd.google.colaboratory.intrinsic+json": {
              "type": "string"
            }
          },
          "metadata": {},
          "execution_count": 81
        }
      ]
    },
    {
      "cell_type": "code",
      "source": [
        "np.random.rand(4)"
      ],
      "metadata": {
        "colab": {
          "base_uri": "https://localhost:8080/"
        },
        "id": "1utQj9AnhRSQ",
        "outputId": "0295fd91-1ca4-4b8a-eb69-0f6c90320e85"
      },
      "execution_count": 82,
      "outputs": [
        {
          "output_type": "execute_result",
          "data": {
            "text/plain": [
              "array([0.30725432, 0.79887295, 0.02267435, 0.64706719])"
            ]
          },
          "metadata": {},
          "execution_count": 82
        }
      ]
    },
    {
      "cell_type": "code",
      "source": [
        "np.random.rand(4,5)"
      ],
      "metadata": {
        "colab": {
          "base_uri": "https://localhost:8080/"
        },
        "id": "rP9ngiUEhRPW",
        "outputId": "e236b302-2c27-4a5c-e388-3739bcbbb7ad"
      },
      "execution_count": 83,
      "outputs": [
        {
          "output_type": "execute_result",
          "data": {
            "text/plain": [
              "array([[0.76878283, 0.8926319 , 0.82475265, 0.56296713, 0.20633491],\n",
              "       [0.51901626, 0.21315057, 0.70473498, 0.63847195, 0.71946907],\n",
              "       [0.73001423, 0.81556019, 0.28162259, 0.07498055, 0.44002636],\n",
              "       [0.87624011, 0.38040866, 0.38029327, 0.52024114, 0.99356318]])"
            ]
          },
          "metadata": {},
          "execution_count": 83
        }
      ]
    },
    {
      "cell_type": "code",
      "source": [
        "np.random.randn(5)"
      ],
      "metadata": {
        "colab": {
          "base_uri": "https://localhost:8080/"
        },
        "id": "LIR6VbkohRNC",
        "outputId": "7a0e8d75-7529-446c-e9ab-8fa3627d0b8d"
      },
      "execution_count": 84,
      "outputs": [
        {
          "output_type": "execute_result",
          "data": {
            "text/plain": [
              "array([-0.15832123,  0.25363011,  0.39819309,  0.10491144,  0.54180262])"
            ]
          },
          "metadata": {},
          "execution_count": 84
        }
      ]
    },
    {
      "cell_type": "code",
      "source": [
        "# specify mean and sigma\n",
        "\n",
        "np.random.normal(loc=10,scale=110)\n",
        "\n",
        "#loc is mean and scale is Standard deviation.\n"
      ],
      "metadata": {
        "colab": {
          "base_uri": "https://localhost:8080/"
        },
        "id": "LEA0Mh6lhRKR",
        "outputId": "87b13db0-a04e-48ff-cffa-930b12e79fa3"
      },
      "execution_count": 85,
      "outputs": [
        {
          "output_type": "execute_result",
          "data": {
            "text/plain": [
              "-127.15497918648447"
            ]
          },
          "metadata": {},
          "execution_count": 85
        }
      ]
    },
    {
      "cell_type": "code",
      "source": [
        "\"\"\"\n",
        "Return random integers from low (inclusive) to high (exclusive).\n",
        "Return random integers from the “discrete uniform”\n",
        "distribution of the specified dtype in the “half-open”\n",
        "interval [low, high). If high is None (the default),\n",
        "then results are from [0, low).\n",
        "\n",
        "It will return 1 random number/in range between high and low.\n",
        "\"\"\""
      ],
      "metadata": {
        "colab": {
          "base_uri": "https://localhost:8080/",
          "height": 88
        },
        "id": "oEpyKciIhRHn",
        "outputId": "595639eb-9ddc-4cf0-bbc1-a5d38aa5cea3"
      },
      "execution_count": 86,
      "outputs": [
        {
          "output_type": "execute_result",
          "data": {
            "text/plain": [
              "'\\nReturn random integers from low (inclusive) to high (exclusive). \\nReturn random integers from the “discrete uniform” \\ndistribution of the specified dtype in the “half-open” \\ninterval [low, high). If high is None (the default), \\nthen results are from [0, low).\\n\\nIt will return 1 random number/in range between high and low.\\n'"
            ],
            "application/vnd.google.colaboratory.intrinsic+json": {
              "type": "string"
            }
          },
          "metadata": {},
          "execution_count": 86
        }
      ]
    },
    {
      "cell_type": "code",
      "source": [
        "np.random.randint(1,10)"
      ],
      "metadata": {
        "colab": {
          "base_uri": "https://localhost:8080/"
        },
        "id": "01Y4pkWEnrwO",
        "outputId": "723ead8f-9398-4984-90d6-2aa0281c7b24"
      },
      "execution_count": 87,
      "outputs": [
        {
          "output_type": "execute_result",
          "data": {
            "text/plain": [
              "4"
            ]
          },
          "metadata": {},
          "execution_count": 87
        }
      ]
    },
    {
      "cell_type": "code",
      "source": [
        "np.random.randint(1,10,20)"
      ],
      "metadata": {
        "colab": {
          "base_uri": "https://localhost:8080/"
        },
        "id": "uqxq5uF9hRE3",
        "outputId": "a5e9d6f5-ea6c-40f4-ca39-5139f4dd1928"
      },
      "execution_count": 88,
      "outputs": [
        {
          "output_type": "execute_result",
          "data": {
            "text/plain": [
              "array([9, 7, 5, 6, 5, 8, 6, 8, 5, 8, 4, 4, 2, 4, 6, 2, 1, 1, 9, 2])"
            ]
          },
          "metadata": {},
          "execution_count": 88
        }
      ]
    },
    {
      "cell_type": "code",
      "source": [
        "# set a seed thats sets the random state that way the\n",
        "# the random results can be actually reproduced\n",
        "# will give each time same numbers\n",
        "# number 42 does not have any particularly meaning\n",
        "# its just an arbitrary number chosen.\n",
        "# seed should be in the same cell otherwise it will give\n",
        "# different numbers\n",
        "np.random.seed(42)\n",
        "np.random.randint(1,100,10)"
      ],
      "metadata": {
        "colab": {
          "base_uri": "https://localhost:8080/"
        },
        "id": "IyVcWYK8hRCe",
        "outputId": "71de14f5-c767-4ade-80a6-113b35a0956f"
      },
      "execution_count": 89,
      "outputs": [
        {
          "output_type": "execute_result",
          "data": {
            "text/plain": [
              "array([52, 93, 15, 72, 61, 21, 83, 87, 75, 75])"
            ]
          },
          "metadata": {},
          "execution_count": 89
        }
      ]
    },
    {
      "cell_type": "code",
      "source": [
        "np.random.seed(42)\n",
        "np.random.rand(4)"
      ],
      "metadata": {
        "colab": {
          "base_uri": "https://localhost:8080/"
        },
        "id": "FPY3b6EnhQ_1",
        "outputId": "c65cfce6-779f-4ec1-a68e-54ca9276b7d6"
      },
      "execution_count": 90,
      "outputs": [
        {
          "output_type": "execute_result",
          "data": {
            "text/plain": [
              "array([0.37454012, 0.95071431, 0.73199394, 0.59865848])"
            ]
          },
          "metadata": {},
          "execution_count": 90
        }
      ]
    },
    {
      "cell_type": "code",
      "source": [
        "np.random.seed(555)\n",
        "np.random.rand(4)"
      ],
      "metadata": {
        "colab": {
          "base_uri": "https://localhost:8080/"
        },
        "id": "z0xsTWULhQ9Q",
        "outputId": "10e4b8c7-1a25-4610-aa1f-6e144244952e"
      },
      "execution_count": 91,
      "outputs": [
        {
          "output_type": "execute_result",
          "data": {
            "text/plain": [
              "array([0.71783409, 0.04785513, 0.94447198, 0.68638004])"
            ]
          },
          "metadata": {},
          "execution_count": 91
        }
      ]
    },
    {
      "cell_type": "markdown",
      "source": [
        "**Array attributed and Methods**"
      ],
      "metadata": {
        "id": "A4QoW9YOpCFX"
      }
    },
    {
      "cell_type": "code",
      "source": [
        "arr=np.arange(25)\n",
        "arr #arange array"
      ],
      "metadata": {
        "colab": {
          "base_uri": "https://localhost:8080/"
        },
        "id": "_whdMBewhQ6x",
        "outputId": "d8a45bab-fd3b-4807-a7e5-e3df1855e678"
      },
      "execution_count": 92,
      "outputs": [
        {
          "output_type": "execute_result",
          "data": {
            "text/plain": [
              "array([ 0,  1,  2,  3,  4,  5,  6,  7,  8,  9, 10, 11, 12, 13, 14, 15, 16,\n",
              "       17, 18, 19, 20, 21, 22, 23, 24])"
            ]
          },
          "metadata": {},
          "execution_count": 92
        }
      ]
    },
    {
      "cell_type": "code",
      "source": [
        "ranarr=np.random.randint(0,50,10)\n",
        "ranarr #random array"
      ],
      "metadata": {
        "colab": {
          "base_uri": "https://localhost:8080/"
        },
        "id": "thjaKZmghQ4T",
        "outputId": "5c38a5cd-c37d-4e04-eff5-ebce32b338d5"
      },
      "execution_count": 93,
      "outputs": [
        {
          "output_type": "execute_result",
          "data": {
            "text/plain": [
              "array([41, 48, 32, 20, 22, 22, 10, 21, 27, 28])"
            ]
          },
          "metadata": {},
          "execution_count": 93
        }
      ]
    },
    {
      "cell_type": "code",
      "source": [
        "arr.shape"
      ],
      "metadata": {
        "colab": {
          "base_uri": "https://localhost:8080/"
        },
        "id": "EDVrg8HkhQ1j",
        "outputId": "a3d08216-e258-446c-971a-e02fc01bba35"
      },
      "execution_count": 94,
      "outputs": [
        {
          "output_type": "execute_result",
          "data": {
            "text/plain": [
              "(25,)"
            ]
          },
          "metadata": {},
          "execution_count": 94
        }
      ]
    },
    {
      "cell_type": "code",
      "source": [
        "\"\"\"Reshape\n",
        "\n",
        "Gives a new shape to an array without changing its data.\n",
        "\n",
        "reshape() is used to create a new array of the same size\n",
        "(as the original array) but of different desired dimensions.\n",
        "resize() can create an array of larger size than the\n",
        "original array.\n",
        "\n",
        ".shape gives us shape of the array. but sometimes what if we do\n",
        "not want 1D array may be we want 2D array.\n",
        "\n",
        "Somthings we have to be careful is that we can't just choose\n",
        "any arbitrary values for reshape. if for this example if\n",
        "reshape(5,3) will give an arrray because array has 25 elements.\n",
        "it will not fit. because it has space only for 15 elements.\n",
        "\n",
        "\"\"\""
      ],
      "metadata": {
        "colab": {
          "base_uri": "https://localhost:8080/",
          "height": 157
        },
        "id": "mQPF0_OzhQzA",
        "outputId": "7105f6d5-7d1d-466d-f45e-e318f0cc1b9d"
      },
      "execution_count": 95,
      "outputs": [
        {
          "output_type": "execute_result",
          "data": {
            "text/plain": [
              "\"Reshape\\n\\nGives a new shape to an array without changing its data.\\n\\nreshape() is used to create a new array of the same size \\n(as the original array) but of different desired dimensions. \\nresize() can create an array of larger size than the\\noriginal array.\\n\\n.shape gives us shape of the array. but sometimes what if we do \\nnot want 1D array may be we want 2D array.\\n\\nSomthings we have to be careful is that we can't just choose\\nany arbitrary values for reshape. if for this example if\\nreshape(5,3) will give an arrray because array has 25 elements.\\nit will not fit. because it has space only for 15 elements.\\n\\n\""
            ],
            "application/vnd.google.colaboratory.intrinsic+json": {
              "type": "string"
            }
          },
          "metadata": {},
          "execution_count": 95
        }
      ]
    },
    {
      "cell_type": "code",
      "source": [
        "arr.reshape(5,5)"
      ],
      "metadata": {
        "colab": {
          "base_uri": "https://localhost:8080/"
        },
        "id": "KAGZnieZhQwq",
        "outputId": "6df81e0a-1b31-4821-808f-f0602018f242"
      },
      "execution_count": 96,
      "outputs": [
        {
          "output_type": "execute_result",
          "data": {
            "text/plain": [
              "array([[ 0,  1,  2,  3,  4],\n",
              "       [ 5,  6,  7,  8,  9],\n",
              "       [10, 11, 12, 13, 14],\n",
              "       [15, 16, 17, 18, 19],\n",
              "       [20, 21, 22, 23, 24]])"
            ]
          },
          "metadata": {},
          "execution_count": 96
        }
      ]
    },
    {
      "cell_type": "code",
      "source": [
        "\"\"\"\n",
        "max:-\n",
        "The max() method returns the largest element of an\n",
        "array along an axis.\n",
        "\n",
        "min:-\n",
        "Return the minimum of an array or minimum along an axis.\n",
        "\n",
        "argmax:-\n",
        "Returns the indices of the maximum values along an axis.\n",
        "Input array. By default, the index is into the flattened\n",
        "array, otherwise along the specified axis.\n",
        "\n",
        "argmin:-\n",
        "\n",
        "numpy. argmin (a, axis=None, out=None)[source] Returns the\n",
        " indices of the minimum values along an axis.\n",
        "\n",
        "\"\"\""
      ],
      "metadata": {
        "colab": {
          "base_uri": "https://localhost:8080/",
          "height": 123
        },
        "id": "0wUEj51HhQuO",
        "outputId": "e67fd270-2437-4f18-9c2a-e109d47e065c"
      },
      "execution_count": 97,
      "outputs": [
        {
          "output_type": "execute_result",
          "data": {
            "text/plain": [
              "'\\nmax:-\\nThe max() method returns the largest element of an\\narray along an axis.\\n\\nmin:-  \\nReturn the minimum of an array or minimum along an axis.\\n\\nargmax:-\\nReturns the indices of the maximum values along an axis.\\nInput array. By default, the index is into the flattened \\narray, otherwise along the specified axis.\\n\\nargmin:-\\n\\nnumpy. argmin (a, axis=None, out=None)[source] Returns the\\n indices of the minimum values along an axis.\\n\\n'"
            ],
            "application/vnd.google.colaboratory.intrinsic+json": {
              "type": "string"
            }
          },
          "metadata": {},
          "execution_count": 97
        }
      ]
    },
    {
      "cell_type": "code",
      "source": [
        "ranarr"
      ],
      "metadata": {
        "colab": {
          "base_uri": "https://localhost:8080/"
        },
        "id": "A7Li0hywhQrB",
        "outputId": "001266da-fd2f-4084-8208-8f151637a7fd"
      },
      "execution_count": 98,
      "outputs": [
        {
          "output_type": "execute_result",
          "data": {
            "text/plain": [
              "array([41, 48, 32, 20, 22, 22, 10, 21, 27, 28])"
            ]
          },
          "metadata": {},
          "execution_count": 98
        }
      ]
    },
    {
      "cell_type": "code",
      "source": [
        "ranarr.max()"
      ],
      "metadata": {
        "colab": {
          "base_uri": "https://localhost:8080/"
        },
        "id": "o18IS_4NhDDO",
        "outputId": "832e929e-e71e-42d7-b9d1-8b5f183fcfd2"
      },
      "execution_count": 99,
      "outputs": [
        {
          "output_type": "execute_result",
          "data": {
            "text/plain": [
              "48"
            ]
          },
          "metadata": {},
          "execution_count": 99
        }
      ]
    },
    {
      "cell_type": "code",
      "source": [
        "ranarr.min()"
      ],
      "metadata": {
        "colab": {
          "base_uri": "https://localhost:8080/"
        },
        "id": "Ddl3k8XXhDBQ",
        "outputId": "2c766de7-c7ad-428b-bfb8-f176928c81c2"
      },
      "execution_count": 100,
      "outputs": [
        {
          "output_type": "execute_result",
          "data": {
            "text/plain": [
              "10"
            ]
          },
          "metadata": {},
          "execution_count": 100
        }
      ]
    },
    {
      "cell_type": "code",
      "source": [
        "#it does not tell index location\n",
        "\n",
        "ranarr.argmax()"
      ],
      "metadata": {
        "colab": {
          "base_uri": "https://localhost:8080/"
        },
        "id": "R4H4w5M-hC-a",
        "outputId": "7636022c-e69e-4b49-a4b0-6de979a6b67b"
      },
      "execution_count": 101,
      "outputs": [
        {
          "output_type": "execute_result",
          "data": {
            "text/plain": [
              "1"
            ]
          },
          "metadata": {},
          "execution_count": 101
        }
      ]
    },
    {
      "cell_type": "code",
      "source": [
        "ranarr.argmin()"
      ],
      "metadata": {
        "colab": {
          "base_uri": "https://localhost:8080/"
        },
        "id": "yd5WtyUQhC7p",
        "outputId": "1581452d-6b79-4d20-cdc7-45bf2caefead"
      },
      "execution_count": 102,
      "outputs": [
        {
          "output_type": "execute_result",
          "data": {
            "text/plain": [
              "6"
            ]
          },
          "metadata": {},
          "execution_count": 102
        }
      ]
    },
    {
      "cell_type": "code",
      "source": [
        "ranarr.dtype #type of data in random array."
      ],
      "metadata": {
        "colab": {
          "base_uri": "https://localhost:8080/"
        },
        "id": "LpD0t8yvhC5M",
        "outputId": "1b340381-199e-4f99-8fb5-c986fb3191af"
      },
      "execution_count": 103,
      "outputs": [
        {
          "output_type": "execute_result",
          "data": {
            "text/plain": [
              "dtype('int64')"
            ]
          },
          "metadata": {},
          "execution_count": 103
        }
      ]
    },
    {
      "cell_type": "markdown",
      "source": [
        "#Numpy Index Selection"
      ],
      "metadata": {
        "id": "DM0IMZ2daZGl"
      }
    },
    {
      "cell_type": "code",
      "source": [
        "arr=np.arange(0,11)\n",
        "arr"
      ],
      "metadata": {
        "colab": {
          "base_uri": "https://localhost:8080/"
        },
        "id": "8ZhUzVmoadsA",
        "outputId": "f2648539-aff6-46f9-d8a8-f4dd9a2a3379"
      },
      "execution_count": 104,
      "outputs": [
        {
          "output_type": "execute_result",
          "data": {
            "text/plain": [
              "array([ 0,  1,  2,  3,  4,  5,  6,  7,  8,  9, 10])"
            ]
          },
          "metadata": {},
          "execution_count": 104
        }
      ]
    },
    {
      "cell_type": "code",
      "source": [
        "\"\"\"\n",
        "bracket indexing and selection\n",
        "\n",
        "Indexing:- Lets imagine we wanted to get 1 single value from\n",
        "this 1D array. To do that, it works just like a normal\n",
        "Python list.\n",
        "\n",
        "\"\"\""
      ],
      "metadata": {
        "colab": {
          "base_uri": "https://localhost:8080/",
          "height": 36
        },
        "id": "80rhbYxhhCdl",
        "outputId": "cecc6ae8-6439-4407-e88d-e7236e7e4c01"
      },
      "execution_count": 105,
      "outputs": [
        {
          "output_type": "execute_result",
          "data": {
            "text/plain": [
              "'bracket indexing and selection'"
            ],
            "application/vnd.google.colaboratory.intrinsic+json": {
              "type": "string"
            }
          },
          "metadata": {},
          "execution_count": 105
        }
      ]
    },
    {
      "cell_type": "code",
      "source": [
        "arr[3]"
      ],
      "metadata": {
        "colab": {
          "base_uri": "https://localhost:8080/"
        },
        "id": "gB4flqtChCbF",
        "outputId": "8875deb4-5eaa-4528-8946-8a6b72e342ad"
      },
      "execution_count": 106,
      "outputs": [
        {
          "output_type": "execute_result",
          "data": {
            "text/plain": [
              "3"
            ]
          },
          "metadata": {},
          "execution_count": 106
        }
      ]
    },
    {
      "cell_type": "code",
      "source": [
        "# values within range just like Python list\n",
        "# It will not include last value.\n",
        "\n",
        "\n",
        "arr[1:4]"
      ],
      "metadata": {
        "colab": {
          "base_uri": "https://localhost:8080/"
        },
        "id": "0bC8RNkghCYE",
        "outputId": "9d5d865b-ad08-46a2-9c3b-92be67aec6b0"
      },
      "execution_count": 107,
      "outputs": [
        {
          "output_type": "execute_result",
          "data": {
            "text/plain": [
              "array([1, 2, 3])"
            ]
          },
          "metadata": {},
          "execution_count": 107
        }
      ]
    },
    {
      "cell_type": "code",
      "source": [
        "arr[0:5]"
      ],
      "metadata": {
        "colab": {
          "base_uri": "https://localhost:8080/"
        },
        "id": "BeR4Kk04uBLS",
        "outputId": "7bbc6fc8-db20-4b95-8f9e-1cf2668edf60"
      },
      "execution_count": 108,
      "outputs": [
        {
          "output_type": "execute_result",
          "data": {
            "text/plain": [
              "array([0, 1, 2, 3, 4])"
            ]
          },
          "metadata": {},
          "execution_count": 108
        }
      ]
    },
    {
      "cell_type": "code",
      "source": [
        "arr[:5]"
      ],
      "metadata": {
        "colab": {
          "base_uri": "https://localhost:8080/"
        },
        "id": "Ohg3tkW9uBIs",
        "outputId": "bec7e2b8-5b85-4c37-e88c-833f613bc4c3"
      },
      "execution_count": 109,
      "outputs": [
        {
          "output_type": "execute_result",
          "data": {
            "text/plain": [
              "array([0, 1, 2, 3, 4])"
            ]
          },
          "metadata": {},
          "execution_count": 109
        }
      ]
    },
    {
      "cell_type": "code",
      "source": [
        "arr[5:]\n",
        "\n",
        "#will not include 1st 5 elements."
      ],
      "metadata": {
        "colab": {
          "base_uri": "https://localhost:8080/"
        },
        "id": "DNQ_N0MruBGT",
        "outputId": "0073f991-a428-49e2-b637-be887209bf5c"
      },
      "execution_count": 111,
      "outputs": [
        {
          "output_type": "execute_result",
          "data": {
            "text/plain": [
              "array([ 5,  6,  7,  8,  9, 10])"
            ]
          },
          "metadata": {},
          "execution_count": 111
        }
      ]
    },
    {
      "cell_type": "code",
      "source": [
        "\"\"\"\n",
        "Broadcasting:-\n",
        "\n",
        "NumPy arrays differ from normal python lists because they allow\n",
        "broadcasting functions and operations across this.\n",
        "\n",
        "\n",
        "\"\"\""
      ],
      "metadata": {
        "id": "0SzcvluAuBDc"
      },
      "execution_count": null,
      "outputs": []
    },
    {
      "cell_type": "code",
      "source": [
        "arr"
      ],
      "metadata": {
        "colab": {
          "base_uri": "https://localhost:8080/"
        },
        "id": "DPwQPvhZuBBW",
        "outputId": "ec21cbce-17c7-43d1-be48-35af53e27edc"
      },
      "execution_count": 112,
      "outputs": [
        {
          "output_type": "execute_result",
          "data": {
            "text/plain": [
              "array([ 0,  1,  2,  3,  4,  5,  6,  7,  8,  9, 10])"
            ]
          },
          "metadata": {},
          "execution_count": 112
        }
      ]
    },
    {
      "cell_type": "code",
      "source": [
        "arr+100\n"
      ],
      "metadata": {
        "colab": {
          "base_uri": "https://localhost:8080/"
        },
        "id": "O01Nx3WOuA99",
        "outputId": "be3cf6bb-4440-4127-97d3-c90cbbed3b51"
      },
      "execution_count": 113,
      "outputs": [
        {
          "output_type": "execute_result",
          "data": {
            "text/plain": [
              "array([100, 101, 102, 103, 104, 105, 106, 107, 108, 109, 110])"
            ]
          },
          "metadata": {},
          "execution_count": 113
        }
      ]
    },
    {
      "cell_type": "code",
      "source": [
        "arr/2"
      ],
      "metadata": {
        "colab": {
          "base_uri": "https://localhost:8080/"
        },
        "id": "B0JOQdPfuA69",
        "outputId": "4a294ffc-a383-4c0b-cbef-5f881309ea21"
      },
      "execution_count": 114,
      "outputs": [
        {
          "output_type": "execute_result",
          "data": {
            "text/plain": [
              "array([0. , 0.5, 1. , 1.5, 2. , 2.5, 3. , 3.5, 4. , 4.5, 5. ])"
            ]
          },
          "metadata": {},
          "execution_count": 114
        }
      ]
    },
    {
      "cell_type": "code",
      "source": [
        "arr**2\n",
        "\n",
        "# this is general broadcasting"
      ],
      "metadata": {
        "colab": {
          "base_uri": "https://localhost:8080/"
        },
        "id": "BwL2CvG_dv3-",
        "outputId": "077e0576-8a78-4b78-adbd-81e5b3babca1"
      },
      "execution_count": 116,
      "outputs": [
        {
          "output_type": "execute_result",
          "data": {
            "text/plain": [
              "array([  0,   1,   4,   9,  16,  25,  36,  49,  64,  81, 100])"
            ]
          },
          "metadata": {},
          "execution_count": 116
        }
      ]
    },
    {
      "cell_type": "code",
      "source": [
        "arr"
      ],
      "metadata": {
        "colab": {
          "base_uri": "https://localhost:8080/"
        },
        "id": "eFaHG2dyu-J3",
        "outputId": "2666e13a-c9ed-4ff5-e05a-77ad31fb08f2"
      },
      "execution_count": 117,
      "outputs": [
        {
          "output_type": "execute_result",
          "data": {
            "text/plain": [
              "array([ 0,  1,  2,  3,  4,  5,  6,  7,  8,  9, 10])"
            ]
          },
          "metadata": {},
          "execution_count": 117
        }
      ]
    },
    {
      "cell_type": "code",
      "source": [
        "slice_arr=arr[0:6]\n",
        "slice_arr"
      ],
      "metadata": {
        "colab": {
          "base_uri": "https://localhost:8080/"
        },
        "id": "FtwMdLX7u-FN",
        "outputId": "da743a8e-1550-419b-f886-a6acbe65140f"
      },
      "execution_count": 118,
      "outputs": [
        {
          "output_type": "execute_result",
          "data": {
            "text/plain": [
              "array([0, 1, 2, 3, 4, 5])"
            ]
          },
          "metadata": {},
          "execution_count": 118
        }
      ]
    },
    {
      "cell_type": "code",
      "source": [
        "# Broadcast a reassignment to the slice of this array.\n",
        "\n",
        "slice_arr[:]=99\n"
      ],
      "metadata": {
        "id": "C9GuTQvXu-CV"
      },
      "execution_count": 120,
      "outputs": []
    },
    {
      "cell_type": "code",
      "source": [
        "slice_arr"
      ],
      "metadata": {
        "colab": {
          "base_uri": "https://localhost:8080/"
        },
        "id": "xjZBFNg_u9_8",
        "outputId": "1e090800-97f7-4b36-f588-56cf7b8ad1d1"
      },
      "execution_count": 121,
      "outputs": [
        {
          "output_type": "execute_result",
          "data": {
            "text/plain": [
              "array([99, 99, 99, 99, 99, 99])"
            ]
          },
          "metadata": {},
          "execution_count": 121
        }
      ]
    },
    {
      "cell_type": "code",
      "source": [
        "# slice_arr=arr[0:6] is directly pointing to the original array\n",
        "# which means when we call original array\n",
        "# 1st 5 elements are changed.\n",
        "# So that's sort of broadcasting of reassignment based off a\n",
        "# Slice like this.\n",
        "\n",
        "arr"
      ],
      "metadata": {
        "colab": {
          "base_uri": "https://localhost:8080/"
        },
        "id": "FOCMAd5hu99d",
        "outputId": "6cc35613-fcc5-49d9-8cb9-4407efb7d622"
      },
      "execution_count": 122,
      "outputs": [
        {
          "output_type": "execute_result",
          "data": {
            "text/plain": [
              "array([99, 99, 99, 99, 99, 99,  6,  7,  8,  9, 10])"
            ]
          },
          "metadata": {},
          "execution_count": 122
        }
      ]
    },
    {
      "cell_type": "code",
      "source": [
        "# if we do not want the original array affected\n",
        "# we need to be explicit when a creating a copy\n",
        "arr_copy=arr.copy()\n",
        "print(arr_copy)\n",
        "\n",
        "print(\" \")\n",
        "\n",
        "arr_copy[:]=1000\n",
        "print(arr_copy)\n",
        "\n",
        "print(\" \")\n",
        "\n",
        "print(arr)"
      ],
      "metadata": {
        "colab": {
          "base_uri": "https://localhost:8080/"
        },
        "id": "xmELM92cu96h",
        "outputId": "05beaf23-adb8-41ee-8714-4fc4aae0ceda"
      },
      "execution_count": 127,
      "outputs": [
        {
          "output_type": "stream",
          "name": "stdout",
          "text": [
            "[99 99 99 99 99 99  6  7  8  9 10]\n",
            " \n",
            "[1000 1000 1000 1000 1000 1000 1000 1000 1000 1000 1000]\n",
            " \n",
            "[99 99 99 99 99 99  6  7  8  9 10]\n"
          ]
        }
      ]
    },
    {
      "cell_type": "code",
      "source": [
        "\"\"\"\n",
        "Indexing and selection on 2D array\n",
        "And then conditional selection based off some bullion condition.\n",
        "\n",
        "\n",
        "\"\"\""
      ],
      "metadata": {
        "id": "utSrZJYsu94J"
      },
      "execution_count": null,
      "outputs": []
    },
    {
      "cell_type": "code",
      "source": [
        "arr_2d=np.array([[5,10,15,],[20,25,30],[35,40,45]])\n",
        "arr_2d"
      ],
      "metadata": {
        "colab": {
          "base_uri": "https://localhost:8080/"
        },
        "id": "VkP_FZ9mu91S",
        "outputId": "01ab341b-d707-4977-a290-6d1f072239a1"
      },
      "execution_count": 129,
      "outputs": [
        {
          "output_type": "execute_result",
          "data": {
            "text/plain": [
              "array([[ 5, 10, 15],\n",
              "       [20, 25, 30],\n",
              "       [35, 40, 45]])"
            ]
          },
          "metadata": {},
          "execution_count": 129
        }
      ]
    },
    {
      "cell_type": "code",
      "source": [
        "arr_2d.shape"
      ],
      "metadata": {
        "colab": {
          "base_uri": "https://localhost:8080/"
        },
        "id": "x1-dB2uyu9yw",
        "outputId": "9f29341a-b123-4c04-c79c-70d4a7d88600"
      },
      "execution_count": 130,
      "outputs": [
        {
          "output_type": "execute_result",
          "data": {
            "text/plain": [
              "(3, 3)"
            ]
          },
          "metadata": {},
          "execution_count": 130
        }
      ]
    },
    {
      "cell_type": "code",
      "source": [
        "arr_2d[1]"
      ],
      "metadata": {
        "colab": {
          "base_uri": "https://localhost:8080/"
        },
        "id": "NBfrPPNOu9v3",
        "outputId": "aff01ec3-0e43-404e-84e9-b7a4d3aabcc5"
      },
      "execution_count": 132,
      "outputs": [
        {
          "output_type": "execute_result",
          "data": {
            "text/plain": [
              "array([20, 25, 30])"
            ]
          },
          "metadata": {},
          "execution_count": 132
        }
      ]
    },
    {
      "cell_type": "code",
      "source": [
        "arr_2d[1][1]"
      ],
      "metadata": {
        "colab": {
          "base_uri": "https://localhost:8080/"
        },
        "id": "NkVpAfLQu9tK",
        "outputId": "f2db3c8b-be8d-460f-eb8f-559c8f6c8d26"
      },
      "execution_count": 133,
      "outputs": [
        {
          "output_type": "execute_result",
          "data": {
            "text/plain": [
              "25"
            ]
          },
          "metadata": {},
          "execution_count": 133
        }
      ]
    },
    {
      "cell_type": "code",
      "source": [
        "arr_2d[1,1]"
      ],
      "metadata": {
        "colab": {
          "base_uri": "https://localhost:8080/"
        },
        "id": "-YZvu-Equ9qY",
        "outputId": "df63d448-ac21-44dd-ce4e-f081d4be9707"
      },
      "execution_count": 134,
      "outputs": [
        {
          "output_type": "execute_result",
          "data": {
            "text/plain": [
              "25"
            ]
          },
          "metadata": {},
          "execution_count": 134
        }
      ]
    },
    {
      "cell_type": "code",
      "source": [
        "arr_2d[2,2]"
      ],
      "metadata": {
        "colab": {
          "base_uri": "https://localhost:8080/"
        },
        "id": "M3FJ8_Lou9n4",
        "outputId": "1b220104-ae64-4198-d725-c43d6c95d4e5"
      },
      "execution_count": 135,
      "outputs": [
        {
          "output_type": "execute_result",
          "data": {
            "text/plain": [
              "45"
            ]
          },
          "metadata": {},
          "execution_count": 135
        }
      ]
    },
    {
      "cell_type": "code",
      "source": [
        "arr_2d"
      ],
      "metadata": {
        "colab": {
          "base_uri": "https://localhost:8080/"
        },
        "id": "PQP6yhk5u9kg",
        "outputId": "47de5d0a-4477-42a1-eefd-ac7e9581c3f6"
      },
      "execution_count": 136,
      "outputs": [
        {
          "output_type": "execute_result",
          "data": {
            "text/plain": [
              "array([[ 5, 10, 15],\n",
              "       [20, 25, 30],\n",
              "       [35, 40, 45]])"
            ]
          },
          "metadata": {},
          "execution_count": 136
        }
      ]
    },
    {
      "cell_type": "code",
      "source": [
        "arr_2d[:2] #1st two rows"
      ],
      "metadata": {
        "colab": {
          "base_uri": "https://localhost:8080/"
        },
        "id": "131SJYlh0g3B",
        "outputId": "fa1bab69-d498-4447-8b92-24fb36cab734"
      },
      "execution_count": 138,
      "outputs": [
        {
          "output_type": "execute_result",
          "data": {
            "text/plain": [
              "array([[ 5, 10, 15],\n",
              "       [20, 25, 30]])"
            ]
          },
          "metadata": {},
          "execution_count": 138
        }
      ]
    },
    {
      "cell_type": "code",
      "source": [
        "arr_2d[:2,1:]"
      ],
      "metadata": {
        "colab": {
          "base_uri": "https://localhost:8080/"
        },
        "id": "ymrDmXEm0g0j",
        "outputId": "f138143e-2ce7-4ee8-eb9d-606663708f65"
      },
      "execution_count": 139,
      "outputs": [
        {
          "output_type": "execute_result",
          "data": {
            "text/plain": [
              "array([[10, 15],\n",
              "       [25, 30]])"
            ]
          },
          "metadata": {},
          "execution_count": 139
        }
      ]
    },
    {
      "cell_type": "code",
      "source": [
        "\"\"\"\n",
        "Conditional selection:-\n",
        "\n",
        "It is a fundamental concept that directly translates to Pandas\n",
        "and it allows us to use comparison operators to acutally grab\n",
        "elements.\n",
        "\n",
        "\"\"\""
      ],
      "metadata": {
        "id": "1KZJ93IN0gx0"
      },
      "execution_count": null,
      "outputs": []
    },
    {
      "cell_type": "code",
      "source": [
        "arr=np.arange(1,11)\n",
        "arr"
      ],
      "metadata": {
        "colab": {
          "base_uri": "https://localhost:8080/"
        },
        "id": "3z0NDfZ00gvD",
        "outputId": "fc8e1045-3c31-4f71-b9f0-867c7b49bb33"
      },
      "execution_count": 140,
      "outputs": [
        {
          "output_type": "execute_result",
          "data": {
            "text/plain": [
              "array([ 1,  2,  3,  4,  5,  6,  7,  8,  9, 10])"
            ]
          },
          "metadata": {},
          "execution_count": 140
        }
      ]
    },
    {
      "cell_type": "code",
      "source": [
        "#bullion comparison\n",
        "arr>4"
      ],
      "metadata": {
        "colab": {
          "base_uri": "https://localhost:8080/"
        },
        "id": "q2wfefeK0gsg",
        "outputId": "3025da2b-7433-4509-cf72-7126d674e3e8"
      },
      "execution_count": 141,
      "outputs": [
        {
          "output_type": "execute_result",
          "data": {
            "text/plain": [
              "array([False, False, False, False,  True,  True,  True,  True,  True,\n",
              "        True])"
            ]
          },
          "metadata": {},
          "execution_count": 141
        }
      ]
    },
    {
      "cell_type": "code",
      "source": [
        "bool_arr=arr>4\n",
        "bool_arr"
      ],
      "metadata": {
        "colab": {
          "base_uri": "https://localhost:8080/"
        },
        "id": "3K_OKebs1W61",
        "outputId": "4ccf7750-8073-44a9-a367-6178e82dc29e"
      },
      "execution_count": 142,
      "outputs": [
        {
          "output_type": "execute_result",
          "data": {
            "text/plain": [
              "array([False, False, False, False,  True,  True,  True,  True,  True,\n",
              "        True])"
            ]
          },
          "metadata": {},
          "execution_count": 142
        }
      ]
    },
    {
      "cell_type": "code",
      "source": [
        "arr[bool_arr]\n",
        "\n",
        "# it will only reutnr values where the index locations were true.\n"
      ],
      "metadata": {
        "colab": {
          "base_uri": "https://localhost:8080/"
        },
        "id": "mf-CJMLX1W4d",
        "outputId": "5789db36-b7e4-495f-b166-f9ff926823f6"
      },
      "execution_count": 143,
      "outputs": [
        {
          "output_type": "execute_result",
          "data": {
            "text/plain": [
              "array([ 5,  6,  7,  8,  9, 10])"
            ]
          },
          "metadata": {},
          "execution_count": 143
        }
      ]
    },
    {
      "cell_type": "code",
      "source": [
        "arr[arr>4]\n",
        "\n",
        "# exact same thing in 1 step"
      ],
      "metadata": {
        "colab": {
          "base_uri": "https://localhost:8080/"
        },
        "id": "-v_jBnpo1W1y",
        "outputId": "140b7752-65ba-4f1b-bde6-d8f875caf31f"
      },
      "execution_count": 145,
      "outputs": [
        {
          "output_type": "execute_result",
          "data": {
            "text/plain": [
              "array([ 5,  6,  7,  8,  9, 10])"
            ]
          },
          "metadata": {},
          "execution_count": 145
        }
      ]
    },
    {
      "cell_type": "markdown",
      "source": [
        "# Numpy Operations"
      ],
      "metadata": {
        "id": "GePdCyDS2dQp"
      }
    },
    {
      "cell_type": "code",
      "source": [
        "\"\"\"\n",
        "When we performing operations on NumPy its often on an element\n",
        "by element basis where the operation is broadcasted across the\n",
        "array.\n",
        "\n",
        "When we try to divide by zero or infinity NumPy will actually\n",
        "not produce a full error. Instead it will just produce a warning\n",
        "\n",
        "\n",
        "\"\"\""
      ],
      "metadata": {
        "id": "5jEs-Mb_1Wtj"
      },
      "execution_count": null,
      "outputs": []
    },
    {
      "cell_type": "code",
      "source": [
        "arr=np.arange(10)\n",
        "arr"
      ],
      "metadata": {
        "colab": {
          "base_uri": "https://localhost:8080/"
        },
        "id": "R4IIGmnX1WrD",
        "outputId": "bdfa2ab6-bf4e-4ff8-a7f4-6dbc79ebbf18"
      },
      "execution_count": 147,
      "outputs": [
        {
          "output_type": "execute_result",
          "data": {
            "text/plain": [
              "array([0, 1, 2, 3, 4, 5, 6, 7, 8, 9])"
            ]
          },
          "metadata": {},
          "execution_count": 147
        }
      ]
    },
    {
      "cell_type": "code",
      "source": [
        "arr+100"
      ],
      "metadata": {
        "colab": {
          "base_uri": "https://localhost:8080/"
        },
        "id": "v0WXygYs1Wn-",
        "outputId": "2c65d441-eb98-4c28-d888-1eda77260a33"
      },
      "execution_count": 148,
      "outputs": [
        {
          "output_type": "execute_result",
          "data": {
            "text/plain": [
              "array([100, 101, 102, 103, 104, 105, 106, 107, 108, 109])"
            ]
          },
          "metadata": {},
          "execution_count": 148
        }
      ]
    },
    {
      "cell_type": "code",
      "source": [
        "arr/100"
      ],
      "metadata": {
        "colab": {
          "base_uri": "https://localhost:8080/"
        },
        "id": "GwoIyf3J1WkJ",
        "outputId": "4e0ecb3d-8921-4216-e24c-b41ea91798bb"
      },
      "execution_count": 149,
      "outputs": [
        {
          "output_type": "execute_result",
          "data": {
            "text/plain": [
              "array([0.  , 0.01, 0.02, 0.03, 0.04, 0.05, 0.06, 0.07, 0.08, 0.09])"
            ]
          },
          "metadata": {},
          "execution_count": 149
        }
      ]
    },
    {
      "cell_type": "code",
      "source": [
        "arr**2"
      ],
      "metadata": {
        "colab": {
          "base_uri": "https://localhost:8080/"
        },
        "id": "8xAkYabQ1WhK",
        "outputId": "838a2ff4-596e-47ec-a926-c5cfc34f1208"
      },
      "execution_count": 150,
      "outputs": [
        {
          "output_type": "execute_result",
          "data": {
            "text/plain": [
              "array([ 0,  1,  4,  9, 16, 25, 36, 49, 64, 81])"
            ]
          },
          "metadata": {},
          "execution_count": 150
        }
      ]
    },
    {
      "cell_type": "code",
      "source": [
        "(arr+2)/10"
      ],
      "metadata": {
        "colab": {
          "base_uri": "https://localhost:8080/"
        },
        "id": "K4woDRUw1WWH",
        "outputId": "b67569df-5661-4b63-ec88-ba8f3b9c2408"
      },
      "execution_count": 151,
      "outputs": [
        {
          "output_type": "execute_result",
          "data": {
            "text/plain": [
              "array([0.2, 0.3, 0.4, 0.5, 0.6, 0.7, 0.8, 0.9, 1. , 1.1])"
            ]
          },
          "metadata": {},
          "execution_count": 151
        }
      ]
    },
    {
      "cell_type": "code",
      "source": [
        "arr+arr"
      ],
      "metadata": {
        "colab": {
          "base_uri": "https://localhost:8080/"
        },
        "id": "xvciDm8I1WTW",
        "outputId": "9bc2ff15-a0da-4755-985f-5ca77349edec"
      },
      "execution_count": 152,
      "outputs": [
        {
          "output_type": "execute_result",
          "data": {
            "text/plain": [
              "array([ 0,  2,  4,  6,  8, 10, 12, 14, 16, 18])"
            ]
          },
          "metadata": {},
          "execution_count": 152
        }
      ]
    },
    {
      "cell_type": "code",
      "source": [
        "1/arr\n",
        "#warning when we divide by zero."
      ],
      "metadata": {
        "colab": {
          "base_uri": "https://localhost:8080/"
        },
        "id": "ZUl9Oazt1WQT",
        "outputId": "088c9c30-7b4f-4055-e07d-a292e2c8ab84"
      },
      "execution_count": 153,
      "outputs": [
        {
          "output_type": "stream",
          "name": "stderr",
          "text": [
            "<ipython-input-153-016353831300>:1: RuntimeWarning: divide by zero encountered in divide\n",
            "  1/arr\n"
          ]
        },
        {
          "output_type": "execute_result",
          "data": {
            "text/plain": [
              "array([       inf, 1.        , 0.5       , 0.33333333, 0.25      ,\n",
              "       0.2       , 0.16666667, 0.14285714, 0.125     , 0.11111111])"
            ]
          },
          "metadata": {},
          "execution_count": 153
        }
      ]
    },
    {
      "cell_type": "code",
      "source": [
        "arr/arr"
      ],
      "metadata": {
        "colab": {
          "base_uri": "https://localhost:8080/"
        },
        "id": "aNmJ5T_Z1WMp",
        "outputId": "48bb916d-6d7c-4e9d-ed2e-c2345d743553"
      },
      "execution_count": 154,
      "outputs": [
        {
          "output_type": "stream",
          "name": "stderr",
          "text": [
            "<ipython-input-154-50b4ced5627e>:1: RuntimeWarning: invalid value encountered in divide\n",
            "  arr/arr\n"
          ]
        },
        {
          "output_type": "execute_result",
          "data": {
            "text/plain": [
              "array([nan,  1.,  1.,  1.,  1.,  1.,  1.,  1.,  1.,  1.])"
            ]
          },
          "metadata": {},
          "execution_count": 154
        }
      ]
    },
    {
      "cell_type": "code",
      "source": [
        "np.sqrt(arr)"
      ],
      "metadata": {
        "colab": {
          "base_uri": "https://localhost:8080/"
        },
        "id": "WN_HHgqp1WJO",
        "outputId": "0cb554c3-0b1b-4fb3-e3c3-e53913b1ca69"
      },
      "execution_count": 155,
      "outputs": [
        {
          "output_type": "execute_result",
          "data": {
            "text/plain": [
              "array([0.        , 1.        , 1.41421356, 1.73205081, 2.        ,\n",
              "       2.23606798, 2.44948974, 2.64575131, 2.82842712, 3.        ])"
            ]
          },
          "metadata": {},
          "execution_count": 155
        }
      ]
    },
    {
      "cell_type": "code",
      "source": [
        "np.log(arr)"
      ],
      "metadata": {
        "colab": {
          "base_uri": "https://localhost:8080/"
        },
        "id": "vPwoLgSR0gpn",
        "outputId": "61d6ea58-9dc1-417b-b14a-8f5641505585"
      },
      "execution_count": 156,
      "outputs": [
        {
          "output_type": "stream",
          "name": "stderr",
          "text": [
            "<ipython-input-156-a67b4ae04e95>:1: RuntimeWarning: divide by zero encountered in log\n",
            "  np.log(arr)\n"
          ]
        },
        {
          "output_type": "execute_result",
          "data": {
            "text/plain": [
              "array([      -inf, 0.        , 0.69314718, 1.09861229, 1.38629436,\n",
              "       1.60943791, 1.79175947, 1.94591015, 2.07944154, 2.19722458])"
            ]
          },
          "metadata": {},
          "execution_count": 156
        }
      ]
    },
    {
      "cell_type": "code",
      "source": [
        "np.sin(arr)"
      ],
      "metadata": {
        "colab": {
          "base_uri": "https://localhost:8080/"
        },
        "id": "2FNRO8PQdv1b",
        "outputId": "7849a4e5-5d17-4eb3-ce60-eeece708d0f9"
      },
      "execution_count": 157,
      "outputs": [
        {
          "output_type": "execute_result",
          "data": {
            "text/plain": [
              "array([ 0.        ,  0.84147098,  0.90929743,  0.14112001, -0.7568025 ,\n",
              "       -0.95892427, -0.2794155 ,  0.6569866 ,  0.98935825,  0.41211849])"
            ]
          },
          "metadata": {},
          "execution_count": 157
        }
      ]
    },
    {
      "cell_type": "code",
      "source": [
        "arr.sum()"
      ],
      "metadata": {
        "colab": {
          "base_uri": "https://localhost:8080/"
        },
        "id": "Uhhd1gGBAVEm",
        "outputId": "f88a3305-0ec6-4f6b-fe71-6176efadf0dd"
      },
      "execution_count": 158,
      "outputs": [
        {
          "output_type": "execute_result",
          "data": {
            "text/plain": [
              "45"
            ]
          },
          "metadata": {},
          "execution_count": 158
        }
      ]
    },
    {
      "cell_type": "code",
      "source": [
        "arr.mean()"
      ],
      "metadata": {
        "colab": {
          "base_uri": "https://localhost:8080/"
        },
        "id": "QHNHtvH_AVBr",
        "outputId": "7dfb9d36-5411-4f9a-d758-286e9696450e"
      },
      "execution_count": 159,
      "outputs": [
        {
          "output_type": "execute_result",
          "data": {
            "text/plain": [
              "4.5"
            ]
          },
          "metadata": {},
          "execution_count": 159
        }
      ]
    },
    {
      "cell_type": "code",
      "source": [
        "arr.max()"
      ],
      "metadata": {
        "colab": {
          "base_uri": "https://localhost:8080/"
        },
        "id": "OLlJf6vnAU_T",
        "outputId": "cd8ac4d3-2007-43de-97e9-e1b11858e533"
      },
      "execution_count": 160,
      "outputs": [
        {
          "output_type": "execute_result",
          "data": {
            "text/plain": [
              "9"
            ]
          },
          "metadata": {},
          "execution_count": 160
        }
      ]
    },
    {
      "cell_type": "code",
      "source": [
        "arr_2d=np.array([[1,2,3,4],[5,6,7,8],[9,10,11,12]])\n",
        "\n",
        "print(arr_2d)\n",
        "print(arr_2d.shape)"
      ],
      "metadata": {
        "colab": {
          "base_uri": "https://localhost:8080/"
        },
        "id": "INa8IWorAU8k",
        "outputId": "2301af3d-b5e5-4332-ea09-62dd238d2edd"
      },
      "execution_count": 163,
      "outputs": [
        {
          "output_type": "stream",
          "name": "stdout",
          "text": [
            "[[ 1  2  3  4]\n",
            " [ 5  6  7  8]\n",
            " [ 9 10 11 12]]\n",
            "(3, 4)\n"
          ]
        }
      ]
    },
    {
      "cell_type": "code",
      "source": [
        "arr_2d.sum()"
      ],
      "metadata": {
        "colab": {
          "base_uri": "https://localhost:8080/"
        },
        "id": "XpP8wmPvAU5s",
        "outputId": "55366c08-2ffc-4193-963e-ea51bdb2e0dd"
      },
      "execution_count": 164,
      "outputs": [
        {
          "output_type": "execute_result",
          "data": {
            "text/plain": [
              "78"
            ]
          },
          "metadata": {},
          "execution_count": 164
        }
      ]
    },
    {
      "cell_type": "code",
      "source": [
        "arr_2d.sum(axis=0)\n",
        "\n",
        "#sum of each column in 1D array"
      ],
      "metadata": {
        "colab": {
          "base_uri": "https://localhost:8080/"
        },
        "id": "FpwWw5MzAvrB",
        "outputId": "6e4af79f-b76a-4e52-a34d-a16d23089807"
      },
      "execution_count": 166,
      "outputs": [
        {
          "output_type": "execute_result",
          "data": {
            "text/plain": [
              "array([15, 18, 21, 24])"
            ]
          },
          "metadata": {},
          "execution_count": 166
        }
      ]
    },
    {
      "cell_type": "code",
      "source": [
        "arr_2d.sum(axis=1)\n",
        "\n",
        "#sum of each row in 1D array"
      ],
      "metadata": {
        "colab": {
          "base_uri": "https://localhost:8080/"
        },
        "id": "_-f24b-2Avoh",
        "outputId": "56534d82-dd3d-4106-ab25-46ea0c76b131"
      },
      "execution_count": 168,
      "outputs": [
        {
          "output_type": "execute_result",
          "data": {
            "text/plain": [
              "array([10, 26, 42])"
            ]
          },
          "metadata": {},
          "execution_count": 168
        }
      ]
    }
  ]
}