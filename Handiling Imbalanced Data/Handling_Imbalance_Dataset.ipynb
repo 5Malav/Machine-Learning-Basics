{
  "nbformat": 4,
  "nbformat_minor": 0,
  "metadata": {
    "colab": {
      "provenance": []
    },
    "kernelspec": {
      "name": "python3",
      "display_name": "Python 3"
    },
    "language_info": {
      "name": "python"
    }
  },
  "cells": [
    {
      "cell_type": "markdown",
      "source": [
        "# Step - 1 Generate Synthetic Dataset"
      ],
      "metadata": {
        "id": "QLTl2PQaNvCy"
      }
    },
    {
      "cell_type": "code",
      "execution_count": 2,
      "metadata": {
        "id": "DsFqh_RINlY9"
      },
      "outputs": [],
      "source": [
        "# Import libraries for step-1\n",
        "\n",
        "from sklearn.datasets import make_classification\n",
        "\n",
        "import numpy as np\n",
        "import pandas as pd\n",
        "\n",
        "from collections import Counter"
      ]
    },
    {
      "cell_type": "code",
      "source": [
        "# Create data\n",
        "\n",
        "X,y = make_classification(\\\n",
        "    n_samples = 1000,   # 1000 datapoints\n",
        "    n_features = 10,    # 10 columns\n",
        "    n_informative = 5,  # 5 features useful for predictions\n",
        "    n_redundant= 2,\n",
        "    n_repeated = 0,  # no repeatition in data points\n",
        "    n_classes = 2,   # 2 classes\n",
        "    weights=[0.9,0.1],  # 90% belongs to 1 class\n",
        "    random_state=42        # keep the output everytime we run the code.\n",
        ")\n",
        "# Convert to Dataframe\n",
        "\n",
        "data = pd.DataFrame(X,columns = [f\"Feature_{i}\" for i in range(10)])\n",
        "print(data.head())\n",
        "\n",
        "data['Target']=y\n",
        "# Data distribution\n",
        "\n",
        "print(\"\\n\")\n",
        "\n",
        "print(Counter(data['Target']))"
      ],
      "metadata": {
        "colab": {
          "base_uri": "https://localhost:8080/"
        },
        "id": "rDdNknJqNpSf",
        "outputId": "1202321c-c16d-471f-d0ab-0262ef54139f"
      },
      "execution_count": 3,
      "outputs": [
        {
          "output_type": "stream",
          "name": "stdout",
          "text": [
            "   Feature_0  Feature_1  Feature_2  Feature_3  Feature_4  Feature_5  \\\n",
            "0   1.108936   1.540492   0.493516  -0.529740   0.982175   1.177544   \n",
            "1  -0.564641   3.638629  -1.522415  -1.541705   1.616697   4.781310   \n",
            "2   0.516313   2.165426  -0.628486  -0.386923   0.492518   1.442381   \n",
            "3   1.476534   0.548523  -0.115420  -0.875408   1.301216   0.410295   \n",
            "4   0.278385   1.065828  -1.724917  -2.235667   0.715107   0.731249   \n",
            "\n",
            "   Feature_6  Feature_7  Feature_8  Feature_9  \n",
            "0   1.623025   1.357325   0.966041  -0.504924  \n",
            "1   3.190292  -0.890254   1.438826  -3.828748  \n",
            "2   1.332905  -1.958175  -0.348803  -1.804124  \n",
            "3   1.171878  -1.034471  -1.654176   1.344601  \n",
            "4  -0.674119   0.598330  -0.524283   1.047610  \n",
            "\n",
            "\n",
            "Counter({0: 896, 1: 104})\n"
          ]
        }
      ]
    },
    {
      "cell_type": "markdown",
      "source": [
        "# Step - 2 Train a Logistic Regression Model on imabalanced dataset to check how it performs\n"
      ],
      "metadata": {
        "id": "bxonNophh9Qs"
      }
    },
    {
      "cell_type": "code",
      "source": [
        "# import libraries\n",
        "\n",
        "from sklearn.model_selection import train_test_split\n",
        "from sklearn.linear_model import LogisticRegression\n",
        "from sklearn.metrics import classification_report,confusion_matrix"
      ],
      "metadata": {
        "id": "0s2CFoEGNpVa"
      },
      "execution_count": 4,
      "outputs": []
    },
    {
      "cell_type": "code",
      "source": [
        "# Split the data in X and y\n",
        "\n",
        "X = data.drop(\"Target\",axis=1)\n",
        "y = data['Target']\n",
        "\n",
        "# Split the data in train and test set\n",
        "\n",
        "X_train,X_test,y_train,y_test = train_test_split(X,y,test_size=0.3,stratify=y,\n",
        "                                                 random_state=42)\n",
        "\n",
        "print(X_train.shape,y_train.shape)\n",
        "print(\"\\n\")\n",
        "print(X_test.shape,y_test.shape)\n",
        "\n",
        "print(Counter(y_train))"
      ],
      "metadata": {
        "colab": {
          "base_uri": "https://localhost:8080/"
        },
        "id": "94QpjfNXNpYL",
        "outputId": "c12857b7-312a-4a3b-db22-7f8b8d8509c7"
      },
      "execution_count": 47,
      "outputs": [
        {
          "output_type": "stream",
          "name": "stdout",
          "text": [
            "(700, 10) (700,)\n",
            "\n",
            "\n",
            "(300, 10) (300,)\n",
            "Counter({0: 627, 1: 73})\n"
          ]
        }
      ]
    },
    {
      "cell_type": "code",
      "source": [
        "# Train and Evaluate the Model\n",
        "\n",
        "model = LogisticRegression()\n",
        "model.fit(X_train,y_train)\n",
        "y_pred= model.predict(X_test)\n",
        "\n",
        "print(confusion_matrix(y_test,y_pred))\n",
        "print(\"\\n\")\n",
        "print(classification_report(y_test,y_pred))"
      ],
      "metadata": {
        "colab": {
          "base_uri": "https://localhost:8080/"
        },
        "id": "Ie9PdhOCNpam",
        "outputId": "a2f897eb-636e-45cb-f4e2-4ce522530a94"
      },
      "execution_count": 6,
      "outputs": [
        {
          "output_type": "stream",
          "name": "stdout",
          "text": [
            "[[263   6]\n",
            " [ 22   9]]\n",
            "\n",
            "\n",
            "              precision    recall  f1-score   support\n",
            "\n",
            "           0       0.92      0.98      0.95       269\n",
            "           1       0.60      0.29      0.39        31\n",
            "\n",
            "    accuracy                           0.91       300\n",
            "   macro avg       0.76      0.63      0.67       300\n",
            "weighted avg       0.89      0.91      0.89       300\n",
            "\n"
          ]
        }
      ]
    },
    {
      "cell_type": "code",
      "source": [
        "# High accuracy but bad recall for minority class.\n",
        "# need to imbalance to avoid this type of situation."
      ],
      "metadata": {
        "id": "OEfWXnGONpdJ"
      },
      "execution_count": 7,
      "outputs": []
    },
    {
      "cell_type": "markdown",
      "source": [
        "# Step - 3 Apply Imbalance Handling Methods"
      ],
      "metadata": {
        "id": "AzeM6cAejh6O"
      }
    },
    {
      "cell_type": "markdown",
      "source": [
        "**Method** 1 : Random OverSampling\n",
        "\n",
        "Duplicate minority class to balance the dataset"
      ],
      "metadata": {
        "id": "J83pmM_ipQgN"
      }
    },
    {
      "cell_type": "code",
      "source": [
        "\n",
        "from imblearn.over_sampling import RandomOverSampler\n",
        "\n",
        "ROS = RandomOverSampler(random_state=42)\n",
        "\n",
        "x_ROS,y_ROS = ROS.fit_resample(X_train,y_train)\n",
        "\n",
        "print(Counter(y_ROS))\n",
        "\n",
        "print(\"\\n\")\n",
        "\n",
        "# fit model\n",
        "\n",
        "model.fit(x_ROS,y_ROS)\n",
        "\n",
        "y_pred_ROS = model.predict(X_test)\n",
        "\n",
        "# predict value using original test data in order to get fair results\n",
        "\n",
        "print(confusion_matrix(y_test,y_pred_ROS))\n",
        "print(\"\\n\")\n",
        "\n",
        "print(classification_report(y_test,y_pred_ROS))"
      ],
      "metadata": {
        "colab": {
          "base_uri": "https://localhost:8080/"
        },
        "id": "ctTrT00vNpff",
        "outputId": "fb121f26-cb29-4b31-82fc-8b0dcf704ab5"
      },
      "execution_count": 27,
      "outputs": [
        {
          "output_type": "stream",
          "name": "stdout",
          "text": [
            "Counter({0: 627, 1: 627})\n",
            "\n",
            "\n",
            "[[198  71]\n",
            " [  4  27]]\n",
            "\n",
            "\n",
            "              precision    recall  f1-score   support\n",
            "\n",
            "           0       0.98      0.74      0.84       269\n",
            "           1       0.28      0.87      0.42        31\n",
            "\n",
            "    accuracy                           0.75       300\n",
            "   macro avg       0.63      0.80      0.63       300\n",
            "weighted avg       0.91      0.75      0.80       300\n",
            "\n"
          ]
        }
      ]
    },
    {
      "cell_type": "markdown",
      "source": [
        "**Method** 2 : Random UnderSampling\n",
        "\n",
        "Removes Majority class samples to match the number of Minority class."
      ],
      "metadata": {
        "id": "oG85fjNJu_On"
      }
    },
    {
      "cell_type": "code",
      "source": [
        "\n",
        "from imblearn.under_sampling import RandomUnderSampler\n",
        "\n",
        "ROS = RandomUnderSampler(random_state=42)\n",
        "\n",
        "x_RUS,y_RUS = ROS.fit_resample(X_train,y_train)\n",
        "\n",
        "print(Counter(y_RUS))\n",
        "print(\"\\n\")\n",
        "\n",
        "# fit the model\n",
        "\n",
        "model.fit(x_RUS,y_RUS)\n",
        "\n",
        "y_pred_RUS = model.predict(X_test)\n",
        "\n",
        "print(confusion_matrix(y_test,y_pred_RUS))\n",
        "\n",
        "print(\"\\n\")\n",
        "\n",
        "print(classification_report(y_test,y_pred_RUS))"
      ],
      "metadata": {
        "colab": {
          "base_uri": "https://localhost:8080/"
        },
        "id": "hqp4359sNqPz",
        "outputId": "102f57e1-f77f-477f-8977-5da0a3d87772"
      },
      "execution_count": 26,
      "outputs": [
        {
          "output_type": "stream",
          "name": "stdout",
          "text": [
            "Counter({0: 73, 1: 73})\n",
            "\n",
            "\n",
            "[[185  84]\n",
            " [  5  26]]\n",
            "\n",
            "\n",
            "              precision    recall  f1-score   support\n",
            "\n",
            "           0       0.97      0.69      0.81       269\n",
            "           1       0.24      0.84      0.37        31\n",
            "\n",
            "    accuracy                           0.70       300\n",
            "   macro avg       0.61      0.76      0.59       300\n",
            "weighted avg       0.90      0.70      0.76       300\n",
            "\n"
          ]
        }
      ]
    },
    {
      "cell_type": "markdown",
      "source": [
        "**Method** 3 : Synthetic Minority Oversampling Technique (SMOTE)\n",
        "\n",
        "it creates synthetic points of minority class based on feature space interpolation"
      ],
      "metadata": {
        "id": "Pl0hWHUMzUV6"
      }
    },
    {
      "cell_type": "code",
      "source": [
        "from imblearn.over_sampling import SMOTE\n",
        "\n",
        "smote = SMOTE(random_state=42)\n",
        "\n",
        "X_smote,y_smote=smote.fit_resample(X_train,y_train)\n",
        "\n",
        "print(Counter(y_smote))\n",
        "\n",
        "print(\"\\n\")\n",
        "# fit the model\n",
        "\n",
        "model.fit(X_smote,y_smote)\n",
        "\n",
        "y_pred_smote=model.predict(X_test)\n",
        "\n",
        "print(confusion_matrix(y_test,y_pred_smote))\n",
        "\n",
        "print(\"\\n\")\n",
        "\n",
        "print(classification_report(y_test,y_pred_smote))"
      ],
      "metadata": {
        "colab": {
          "base_uri": "https://localhost:8080/"
        },
        "id": "lm6JIK4KvjBh",
        "outputId": "c31af0c1-0347-416d-8faf-15b6d8653d99"
      },
      "execution_count": 25,
      "outputs": [
        {
          "output_type": "stream",
          "name": "stdout",
          "text": [
            "Counter({0: 627, 1: 627})\n",
            "\n",
            "\n",
            "[[205  64]\n",
            " [  4  27]]\n",
            "\n",
            "\n",
            "              precision    recall  f1-score   support\n",
            "\n",
            "           0       0.98      0.76      0.86       269\n",
            "           1       0.30      0.87      0.44        31\n",
            "\n",
            "    accuracy                           0.77       300\n",
            "   macro avg       0.64      0.82      0.65       300\n",
            "weighted avg       0.91      0.77      0.81       300\n",
            "\n"
          ]
        }
      ]
    },
    {
      "cell_type": "markdown",
      "source": [
        "**Method** 4 : Adaptive Synthetic Sampling (ADASYN)\n"
      ],
      "metadata": {
        "id": "Dn_cXCBO1qBE"
      }
    },
    {
      "cell_type": "code",
      "source": [
        "from imblearn.over_sampling import ADASYN\n",
        "\n",
        "adaptive = ADASYN(random_state=42)\n",
        "\n",
        "X_adaptive,y_adaptive = adaptive.fit_resample(X_train,y_train)\n",
        "\n",
        "print(Counter(y_adaptive))\n",
        "print(\"\\n\")\n",
        "\n",
        "model.fit(X_adaptive,y_adaptive)\n",
        "\n",
        "y_pred_adaptive = model.predict(X_test)\n",
        "\n",
        "print(confusion_matrix(y_test,y_pred_adaptive))\n",
        "print(\"\\n\")\n",
        "\n",
        "print(classification_report(y_test,y_pred_adaptive))\n"
      ],
      "metadata": {
        "colab": {
          "base_uri": "https://localhost:8080/"
        },
        "id": "Et-0RjOZ1pjp",
        "outputId": "00becdde-98ef-4aaf-bfc7-17d6804fb432"
      },
      "execution_count": 33,
      "outputs": [
        {
          "output_type": "stream",
          "name": "stdout",
          "text": [
            "Counter({0: 627, 1: 621})\n",
            "\n",
            "\n",
            "[[193  76]\n",
            " [  4  27]]\n",
            "\n",
            "\n",
            "              precision    recall  f1-score   support\n",
            "\n",
            "           0       0.98      0.72      0.83       269\n",
            "           1       0.26      0.87      0.40        31\n",
            "\n",
            "    accuracy                           0.73       300\n",
            "   macro avg       0.62      0.79      0.62       300\n",
            "weighted avg       0.91      0.73      0.78       300\n",
            "\n"
          ]
        }
      ]
    },
    {
      "cell_type": "markdown",
      "source": [
        "**Method** 5 : NeareMiss (UnderSampling)\n",
        "\n",
        "select Majority points which are closest to Minority points\n"
      ],
      "metadata": {
        "id": "wF4ZNmrA4HmW"
      }
    },
    {
      "cell_type": "code",
      "source": [
        "from imblearn.under_sampling import NearMiss\n",
        "\n",
        "NM = NearMiss()\n",
        "\n",
        "X_NM,y_NM = NM.fit_resample(X_train,y_train)\n",
        "\n",
        "print(Counter(y_NM))\n",
        "print(\"\\n\")\n",
        "\n",
        "model.fit(X_NM,y_NM)\n",
        "\n",
        "y_pred_NM = model.predict(X_test)\n",
        "\n",
        "print(confusion_matrix(y_test,y_pred_NM))\n",
        "print(\"\\n\")\n",
        "\n",
        "print(classification_report(y_test,y_pred_NM))\n"
      ],
      "metadata": {
        "colab": {
          "base_uri": "https://localhost:8080/"
        },
        "id": "bsTpRZun1phC",
        "outputId": "37bf4166-b66f-4e3c-a09b-b645976c92cd"
      },
      "execution_count": 42,
      "outputs": [
        {
          "output_type": "stream",
          "name": "stdout",
          "text": [
            "Counter({0: 73, 1: 73})\n",
            "\n",
            "\n",
            "[[180  89]\n",
            " [  9  22]]\n",
            "\n",
            "\n",
            "              precision    recall  f1-score   support\n",
            "\n",
            "           0       0.95      0.67      0.79       269\n",
            "           1       0.20      0.71      0.31        31\n",
            "\n",
            "    accuracy                           0.67       300\n",
            "   macro avg       0.58      0.69      0.55       300\n",
            "weighted avg       0.87      0.67      0.74       300\n",
            "\n"
          ]
        }
      ]
    },
    {
      "cell_type": "markdown",
      "source": [
        "**Method** 6 : TomekLinks\n",
        "\n",
        "Removes Overlapping points between classes."
      ],
      "metadata": {
        "id": "1GiE1w9u7k89"
      }
    },
    {
      "cell_type": "code",
      "source": [
        "from imblearn.under_sampling import TomekLinks\n",
        "\n",
        "TL = TomekLinks()\n",
        "\n",
        "X_TL,y_TL = TL.fit_resample(X_train,y_train)\n",
        "\n",
        "print(Counter(y_TL))\n",
        "print(\"\\n\")\n",
        "\n",
        "model.fit(X_TL,y_TL)\n",
        "\n",
        "y_pred_TL = model.predict(X_test)\n",
        "\n",
        "print(confusion_matrix(y_test,y_pred_TL))\n",
        "\n",
        "print(\"\\n\")\n",
        "\n",
        "\n",
        "print(classification_report(y_test,y_pred_TL))"
      ],
      "metadata": {
        "colab": {
          "base_uri": "https://localhost:8080/"
        },
        "id": "S77eUwzy1pfC",
        "outputId": "84df3534-01d2-4247-a894-9c2dd35fe612"
      },
      "execution_count": 45,
      "outputs": [
        {
          "output_type": "stream",
          "name": "stdout",
          "text": [
            "Counter({0: 622, 1: 73})\n",
            "\n",
            "\n",
            "[[263   6]\n",
            " [ 22   9]]\n",
            "\n",
            "\n",
            "              precision    recall  f1-score   support\n",
            "\n",
            "           0       0.92      0.98      0.95       269\n",
            "           1       0.60      0.29      0.39        31\n",
            "\n",
            "    accuracy                           0.91       300\n",
            "   macro avg       0.76      0.63      0.67       300\n",
            "weighted avg       0.89      0.91      0.89       300\n",
            "\n"
          ]
        }
      ]
    },
    {
      "cell_type": "markdown",
      "source": [
        "Method 7 -Edited Nearest Neighbors (ENN)\n",
        "\n",
        "Removes majority points misclassified by k-nearest neighbors."
      ],
      "metadata": {
        "id": "2pkpY6A08oA0"
      }
    },
    {
      "cell_type": "code",
      "source": [
        "from imblearn.under_sampling import EditedNearestNeighbours\n",
        "\n",
        "enn = EditedNearestNeighbours()\n",
        "X_enn, y_enn = enn.fit_resample(X_train, y_train)\n",
        "print(Counter(y_enn))\n",
        "\n",
        "print(\"\\n\")\n",
        "\n",
        "model.fit(X_enn,y_enn)\n",
        "\n",
        "y_pred_enn = model.predict(X_test)\n",
        "\n",
        "print(confusion_matrix(y_test,y_pred_enn))\n",
        "\n",
        "print(\"\\n\")\n",
        "\n",
        "\n",
        "print(classification_report(y_test,y_pred_enn))"
      ],
      "metadata": {
        "colab": {
          "base_uri": "https://localhost:8080/"
        },
        "id": "n4BySw3J1pck",
        "outputId": "01ec5d10-5969-4957-b30d-d0867106fb68"
      },
      "execution_count": 46,
      "outputs": [
        {
          "output_type": "stream",
          "name": "stdout",
          "text": [
            "Counter({0: 594, 1: 73})\n",
            "\n",
            "\n",
            "[[261   8]\n",
            " [ 21  10]]\n",
            "\n",
            "\n",
            "              precision    recall  f1-score   support\n",
            "\n",
            "           0       0.93      0.97      0.95       269\n",
            "           1       0.56      0.32      0.41        31\n",
            "\n",
            "    accuracy                           0.90       300\n",
            "   macro avg       0.74      0.65      0.68       300\n",
            "weighted avg       0.89      0.90      0.89       300\n",
            "\n"
          ]
        }
      ]
    },
    {
      "cell_type": "markdown",
      "source": [
        "#Summary of Synthetic Dataset\n",
        "\n",
        "###Primary Method: SMOTE → balances the dataset, improves minority recall, ###avoids overfitting caused by simple duplication.\n",
        "###(Precision :- 0.30, Recall :- 0.87)\n",
        "\n",
        "###Other Option: ADASYN → if we want  focus more on “hard” minority samples.\n",
        "###(Precision :- 0.26, Recall :- 0.87)\n",
        "\n",
        "###Out of 7 methods applied on Synthetic dataset above 2 should be the primary ###and secondary choice respectively due to the best result of precision and ###recall."
      ],
      "metadata": {
        "id": "-2I9JBKsDxwX"
      }
    }
  ]
}